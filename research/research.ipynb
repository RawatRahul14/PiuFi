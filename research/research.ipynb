{
 "cells": [
  {
   "cell_type": "code",
   "execution_count": 1,
   "id": "af4048a1",
   "metadata": {},
   "outputs": [],
   "source": [
    "import os\n",
    "os.chdir(\"../\")"
   ]
  },
  {
   "cell_type": "markdown",
   "id": "29f67f77",
   "metadata": {},
   "source": [
    "### Configuration for models"
   ]
  },
  {
   "cell_type": "code",
   "execution_count": 7,
   "id": "1d1e9dec",
   "metadata": {},
   "outputs": [],
   "source": [
    "from src.PiuFi.Configuration.config import ModelConfig"
   ]
  },
  {
   "cell_type": "code",
   "execution_count": 8,
   "id": "9aeb6380",
   "metadata": {},
   "outputs": [
    {
     "ename": "FileNotFoundError",
     "evalue": "[Errno 2] No such file or directory: 'registry\\\\models.yaml'",
     "output_type": "error",
     "traceback": [
      "\u001b[31m---------------------------------------------------------------------------\u001b[39m",
      "\u001b[31mFileNotFoundError\u001b[39m                         Traceback (most recent call last)",
      "\u001b[36mCell\u001b[39m\u001b[36m \u001b[39m\u001b[32mIn[8]\u001b[39m\u001b[32m, line 1\u001b[39m\n\u001b[32m----> \u001b[39m\u001b[32m1\u001b[39m config = \u001b[43mModelConfig\u001b[49m\u001b[43m(\u001b[49m\u001b[43m)\u001b[49m\n",
      "\u001b[36mFile \u001b[39m\u001b[32mc:\\Users\\rahul\\Desktop\\PiuFi - Backend\\PiuFi\\src\\PiuFi\\Configuration\\config.py:10\u001b[39m, in \u001b[36mModelConfig.__init__\u001b[39m\u001b[34m(self, yaml_path)\u001b[39m\n\u001b[32m      6\u001b[39m \u001b[38;5;28;01mdef\u001b[39;00m\u001b[38;5;250m \u001b[39m\u001b[34m__init__\u001b[39m(\n\u001b[32m      7\u001b[39m         \u001b[38;5;28mself\u001b[39m,\n\u001b[32m      8\u001b[39m         yaml_path: Path = Path(\u001b[33m\"\u001b[39m\u001b[33mregistry/models.yaml\u001b[39m\u001b[33m\"\u001b[39m)\n\u001b[32m      9\u001b[39m ):\n\u001b[32m---> \u001b[39m\u001b[32m10\u001b[39m     \u001b[38;5;28;01mwith\u001b[39;00m \u001b[38;5;28;43mopen\u001b[39;49m\u001b[43m(\u001b[49m\u001b[43myaml_path\u001b[49m\u001b[43m,\u001b[49m\u001b[43m \u001b[49m\u001b[33;43m\"\u001b[39;49m\u001b[33;43mr\u001b[39;49m\u001b[33;43m\"\u001b[39;49m\u001b[43m)\u001b[49m \u001b[38;5;28;01mas\u001b[39;00m f:\n\u001b[32m     11\u001b[39m         \u001b[38;5;28mself\u001b[39m.config = yaml.safe_load(f)\n",
      "\u001b[31mFileNotFoundError\u001b[39m: [Errno 2] No such file or directory: 'registry\\\\models.yaml'"
     ]
    }
   ],
   "source": [
    "config = ModelConfig()"
   ]
  },
  {
   "cell_type": "code",
   "execution_count": null,
   "id": "25007ebc",
   "metadata": {},
   "outputs": [
    {
     "data": {
      "text/plain": [
       "'gpt-5-mini'"
      ]
     },
     "execution_count": 5,
     "metadata": {},
     "output_type": "execute_result"
    }
   ],
   "source": [
    "config.get_agent_model(agent_name = \"question_rewriter\").get(\"name\")"
   ]
  },
  {
   "cell_type": "markdown",
   "id": "ceeee801",
   "metadata": {},
   "source": [
    "### Read YAML function"
   ]
  },
  {
   "cell_type": "code",
   "execution_count": null,
   "id": "649b088d",
   "metadata": {},
   "outputs": [],
   "source": [
    "import json\n",
    "from src.PiuFi.utils.common import render_prompt"
   ]
  },
  {
   "cell_type": "code",
   "execution_count": null,
   "id": "94c82be8",
   "metadata": {},
   "outputs": [],
   "source": [
    "conversation = \"No Chat History\""
   ]
  },
  {
   "cell_type": "code",
   "execution_count": null,
   "id": "e9c57a55",
   "metadata": {},
   "outputs": [],
   "source": [
    "chats = render_prompt(prompt_name = \"missing_handler\",\n",
    "                    user_reply = \"It's tcs\")"
   ]
  },
  {
   "cell_type": "code",
   "execution_count": null,
   "id": "96517ae5",
   "metadata": {},
   "outputs": [
    {
     "data": {
      "text/plain": [
       "{'system': 'ROLE\\n  - You are a Financial parameter extractor.  \\n  - Your task is to extract missing variables from the user\\'s natural reply.\\n\\nINPUTS\\n  - \"user_reply\": The user\\'s answer to a missing-parameters question.\\n\\nTASKS\\n  - Extract:\\n    - \"tickers\": Stock ticker symbols (normalize company names to tickers if possible).\\n\\nRULES\\n  - Do not invent values.  ',\n",
       " 'user': 'User reply: \"It\\'s tcs\"',\n",
       " 'output_schema': '{\\n  \"tickers\": [\"str\"]\\n}\\n',\n",
       " 'few_shots': []}"
      ]
     },
     "execution_count": 4,
     "metadata": {},
     "output_type": "execute_result"
    }
   ],
   "source": [
    "chats"
   ]
  },
  {
   "cell_type": "markdown",
   "id": "e08a639f",
   "metadata": {},
   "source": [
    "### extractor"
   ]
  },
  {
   "cell_type": "code",
   "execution_count": null,
   "id": "afc224b4",
   "metadata": {},
   "outputs": [],
   "source": [
    "from src.PiuFi.Agents.error_handler.param_handling_node import missing_handler_agent"
   ]
  },
  {
   "cell_type": "code",
   "execution_count": null,
   "id": "ea0f00b7",
   "metadata": {},
   "outputs": [],
   "source": [
    "init_state = {\n",
    "    \"question\": \"analyze stock using macd and rsi\",\n",
    "    \"is_retriever_available\": False,\n",
    "    \"n_days\": None,\n",
    "    \"direction\": None,\n",
    "    \"tickers\": [],              # 🚨 empty → will trigger missing\n",
    "    \"missing_list\": [\"Tickers\"],# 🚨 marks ticker missing\n",
    "    \"is_followup\": None,\n",
    "    \"is_missing\": True,         # 🚨 flag to show missing mode\n",
    "    \"user_reply\": \"It's TCS\",   # what user gives back\n",
    "    \"models_list\": [\"indicator_analyst_model\"],\n",
    "    \"messages\": {},\n",
    "    \"rephrased_question\": None,\n",
    "    \"rag_rephrased_question\": None,\n",
    "    \"financial_rephrased_question\": None,\n",
    "    \"technical_rephrased_question\": None,\n",
    "    \"final_answer\": None\n",
    "}\n"
   ]
  },
  {
   "cell_type": "code",
   "execution_count": null,
   "id": "f0f10b36",
   "metadata": {},
   "outputs": [
    {
     "name": "stdout",
     "output_type": "stream",
     "text": [
      "Command(update={'tickers': ['TCS'], 'user_reply': 'Blah blah'})\n"
     ]
    }
   ],
   "source": [
    "result = await missing_handler_agent(init_state)\n",
    "print(result)"
   ]
  },
  {
   "cell_type": "markdown",
   "id": "8d56838c",
   "metadata": {},
   "source": [
    "### Interrupt"
   ]
  },
  {
   "cell_type": "code",
   "execution_count": null,
   "id": "bc7be41e",
   "metadata": {},
   "outputs": [],
   "source": [
    "from src.PiuFi.Agents.error_handler.param_interrupter import param_interrupt"
   ]
  },
  {
   "cell_type": "code",
   "execution_count": null,
   "id": "084d06e1",
   "metadata": {},
   "outputs": [],
   "source": [
    "init_state = {\n",
    "    \"question\": \"analyze stock using macd and rsi\",\n",
    "    \"is_retriever_available\": False,\n",
    "    \"n_days\": None,\n",
    "    \"direction\": None,\n",
    "    \"tickers\": [],\n",
    "    \"missing_list\": [\"Tickers\"],\n",
    "    \"is_followup\": None,\n",
    "    \"is_missing\": True,\n",
    "    \"user_reply\": None,\n",
    "    \"models_list\": [\"indicator_analyst_model\"],\n",
    "    \"messages\": {},\n",
    "    \"rephrased_question\": None,\n",
    "    \"rag_rephrased_question\": None,\n",
    "    \"financial_rephrased_question\": None,\n",
    "    \"technical_rephrased_question\": None,\n",
    "    \"final_answer\": None\n",
    "}"
   ]
  },
  {
   "cell_type": "code",
   "execution_count": null,
   "id": "08d72364",
   "metadata": {},
   "outputs": [
    {
     "ename": "RuntimeError",
     "evalue": "Called get_config outside of a runnable context",
     "output_type": "error",
     "traceback": [
      "\u001b[31m---------------------------------------------------------------------------\u001b[39m",
      "\u001b[31mRuntimeError\u001b[39m                              Traceback (most recent call last)",
      "\u001b[36mCell\u001b[39m\u001b[36m \u001b[39m\u001b[32mIn[4]\u001b[39m\u001b[32m, line 1\u001b[39m\n\u001b[32m----> \u001b[39m\u001b[32m1\u001b[39m result = \u001b[38;5;28;01mawait\u001b[39;00m param_interrupt(init_state)\n",
      "\u001b[36mFile \u001b[39m\u001b[32mc:\\Users\\rahul\\Desktop\\PiuFi - Backend\\PiuFi\\src\\PiuFi\\Agents\\error_handler\\param_interrupter.py:18\u001b[39m, in \u001b[36mparam_interrupt\u001b[39m\u001b[34m(state)\u001b[39m\n\u001b[32m     15\u001b[39m missing = state.get(\u001b[33m\"\u001b[39m\u001b[33mmissing_list\u001b[39m\u001b[33m\"\u001b[39m)\n\u001b[32m     17\u001b[39m \u001b[38;5;66;03m# === Using interrupt ===\u001b[39;00m\n\u001b[32m---> \u001b[39m\u001b[32m18\u001b[39m \u001b[38;5;28;01mreturn\u001b[39;00m \u001b[43minterrupt\u001b[49m\u001b[43m(\u001b[49m\n\u001b[32m     19\u001b[39m \u001b[43m    \u001b[49m\u001b[43m{\u001b[49m\n\u001b[32m     20\u001b[39m \u001b[43m    \u001b[49m\u001b[33;43m\"\u001b[39;49m\u001b[33;43mmessage\u001b[39;49m\u001b[33;43m\"\u001b[39;49m\u001b[43m:\u001b[49m\u001b[43m \u001b[49m\u001b[33;43mf\u001b[39;49m\u001b[33;43m\"\u001b[39;49m\u001b[33;43mThere are missing inputs required to go through: \u001b[39;49m\u001b[38;5;132;43;01m{\u001b[39;49;00m\u001b[33;43m'\u001b[39;49m\u001b[33;43m, \u001b[39;49m\u001b[33;43m'\u001b[39;49m\u001b[43m.\u001b[49m\u001b[43mjoin\u001b[49m\u001b[43m(\u001b[49m\u001b[43mmissing\u001b[49m\u001b[43m)\u001b[49m\u001b[38;5;132;43;01m}\u001b[39;49;00m\u001b[33;43m. Please provide them.\u001b[39;49m\u001b[33;43m\"\u001b[39;49m\n\u001b[32m     21\u001b[39m \u001b[43m    \u001b[49m\u001b[43m}\u001b[49m\n\u001b[32m     22\u001b[39m \u001b[43m\u001b[49m\u001b[43m)\u001b[49m\n",
      "\u001b[36mFile \u001b[39m\u001b[32mc:\\Users\\rahul\\Desktop\\PiuFi - Backend\\PiuFi\\.venv\\Lib\\site-packages\\langgraph\\types.py:503\u001b[39m, in \u001b[36minterrupt\u001b[39m\u001b[34m(value)\u001b[39m\n\u001b[32m    500\u001b[39m \u001b[38;5;28;01mfrom\u001b[39;00m\u001b[38;5;250m \u001b[39m\u001b[34;01mlanggraph\u001b[39;00m\u001b[34;01m.\u001b[39;00m\u001b[34;01mconfig\u001b[39;00m\u001b[38;5;250m \u001b[39m\u001b[38;5;28;01mimport\u001b[39;00m get_config\n\u001b[32m    501\u001b[39m \u001b[38;5;28;01mfrom\u001b[39;00m\u001b[38;5;250m \u001b[39m\u001b[34;01mlanggraph\u001b[39;00m\u001b[34;01m.\u001b[39;00m\u001b[34;01merrors\u001b[39;00m\u001b[38;5;250m \u001b[39m\u001b[38;5;28;01mimport\u001b[39;00m GraphInterrupt\n\u001b[32m--> \u001b[39m\u001b[32m503\u001b[39m conf = \u001b[43mget_config\u001b[49m\u001b[43m(\u001b[49m\u001b[43m)\u001b[49m[\u001b[33m\"\u001b[39m\u001b[33mconfigurable\u001b[39m\u001b[33m\"\u001b[39m]\n\u001b[32m    504\u001b[39m \u001b[38;5;66;03m# track interrupt index\u001b[39;00m\n\u001b[32m    505\u001b[39m scratchpad = conf[CONFIG_KEY_SCRATCHPAD]\n",
      "\u001b[36mFile \u001b[39m\u001b[32mc:\\Users\\rahul\\Desktop\\PiuFi - Backend\\PiuFi\\.venv\\Lib\\site-packages\\langgraph\\config.py:29\u001b[39m, in \u001b[36mget_config\u001b[39m\u001b[34m()\u001b[39m\n\u001b[32m     27\u001b[39m     \u001b[38;5;28;01mreturn\u001b[39;00m var_config\n\u001b[32m     28\u001b[39m \u001b[38;5;28;01melse\u001b[39;00m:\n\u001b[32m---> \u001b[39m\u001b[32m29\u001b[39m     \u001b[38;5;28;01mraise\u001b[39;00m \u001b[38;5;167;01mRuntimeError\u001b[39;00m(\u001b[33m\"\u001b[39m\u001b[33mCalled get_config outside of a runnable context\u001b[39m\u001b[33m\"\u001b[39m)\n",
      "\u001b[31mRuntimeError\u001b[39m: Called get_config outside of a runnable context"
     ]
    }
   ],
   "source": [
    "result = await param_interrupt(init_state)"
   ]
  },
  {
   "cell_type": "markdown",
   "id": "c8c4211d",
   "metadata": {},
   "source": [
    "### Graph"
   ]
  },
  {
   "cell_type": "code",
   "execution_count": 2,
   "id": "e009cff5",
   "metadata": {},
   "outputs": [],
   "source": [
    "from main import graph"
   ]
  },
  {
   "cell_type": "code",
   "execution_count": 3,
   "id": "693e0b50",
   "metadata": {},
   "outputs": [],
   "source": [
    "graph = graph()"
   ]
  },
  {
   "cell_type": "code",
   "execution_count": 4,
   "id": "3fd5f1db",
   "metadata": {},
   "outputs": [],
   "source": [
    "from IPython.display import display, Image\n",
    "from langchain_core.runnables.graph import MermaidDrawMethod"
   ]
  },
  {
   "cell_type": "code",
   "execution_count": 5,
   "id": "0bdd4f9d",
   "metadata": {},
   "outputs": [
    {
     "data": {
      "image/png": "[encoded data removed]",
      "text/plain": [
       "<IPython.core.display.Image object>"
      ]
     },
     "metadata": {},
     "output_type": "display_data"
    }
   ],
   "source": [
    "display(\n",
    "    Image(\n",
    "        graph.get_graph().draw_mermaid_png(\n",
    "            draw_method = MermaidDrawMethod.API\n",
    "        )\n",
    "    )\n",
    ")"
   ]
  },
  {
   "cell_type": "code",
   "execution_count": null,
   "id": "3201e8d7",
   "metadata": {},
   "outputs": [],
   "source": [
    "user_input = \"analyze stock using macd and rsi\""
   ]
  },
  {
   "cell_type": "code",
   "execution_count": null,
   "id": "d13c086e",
   "metadata": {},
   "outputs": [],
   "source": [
    "input_data = {\n",
    "            \"question\": user_input\n",
    "        }"
   ]
  },
  {
   "cell_type": "code",
   "execution_count": null,
   "id": "7424b056",
   "metadata": {},
   "outputs": [],
   "source": [
    "result = await graph.ainvoke(\n",
    "            input = input_data,\n",
    "            config = {\n",
    "                \"configurable\": {\n",
    "                    \"thread_id\": 1\n",
    "                }\n",
    "            }\n",
    "        )"
   ]
  },
  {
   "cell_type": "code",
   "execution_count": null,
   "id": "9d3a0435",
   "metadata": {},
   "outputs": [
    {
     "data": {
      "text/plain": [
       "{'question': 'analyze stock using macd and rsi',\n",
       " 'is_retriever_available': False,\n",
       " 'n_days': None,\n",
       " 'direction': None,\n",
       " 'tickers': [],\n",
       " 'missing_list': [],\n",
       " 'is_followup': None,\n",
       " 'is_missing': None,\n",
       " 'user_reply': None,\n",
       " 'models_list': ['indicator_analyst_model'],\n",
       " 'messages': {},\n",
       " 'rephrased_question': 'How can I analyze a stock using MACD and RSI indicators?',\n",
       " 'rag_rephrased_question': 'What is the method to analyze a stock with MACD and RSI indicators?',\n",
       " 'financial_rephrased_question': 'What are the steps to analyze a stock using MACD and RSI?',\n",
       " 'technical_rephrased_question': 'How to perform stock analysis using MACD and RSI indicators?',\n",
       " 'final_answer': None,\n",
       " '__interrupt__': [Interrupt(value={'message': 'There are missing inputs required to go through: . Please provide them.'}, id='7fddd172d74db3db48418d09385990fc')]}"
      ]
     },
     "execution_count": 11,
     "metadata": {},
     "output_type": "execute_result"
    }
   ],
   "source": [
    "result"
   ]
  },
  {
   "cell_type": "code",
   "execution_count": null,
   "id": "0507bb87",
   "metadata": {},
   "outputs": [],
   "source": [
    "result = await graph.ainvoke(\n",
    "            {\n",
    "                **result,\n",
    "                \"user_reply\": \"It's tcs\"\n",
    "            },\n",
    "            config = {\n",
    "                \"configurable\": {\n",
    "                    \"thread_id\": 1\n",
    "                }\n",
    "            }\n",
    "        )"
   ]
  },
  {
   "cell_type": "code",
   "execution_count": null,
   "id": "92088b7f",
   "metadata": {},
   "outputs": [
    {
     "data": {
      "text/plain": [
       "{'question': 'analyze stock using macd and rsi',\n",
       " 'is_retriever_available': False,\n",
       " 'n_days': None,\n",
       " 'direction': None,\n",
       " 'tickers': [],\n",
       " 'missing_list': [],\n",
       " 'is_followup': None,\n",
       " 'is_missing': None,\n",
       " 'user_reply': None,\n",
       " 'models_list': ['indicator_analyst_model'],\n",
       " 'messages': {},\n",
       " 'rephrased_question': 'How can I analyze a stock using MACD and RSI indicators?',\n",
       " 'rag_rephrased_question': 'What is the method to analyze a stock with MACD and RSI indicators?',\n",
       " 'financial_rephrased_question': 'What are the steps to analyze a stock using MACD and RSI indicators?',\n",
       " 'technical_rephrased_question': 'What is the analysis process for a stock using MACD and RSI indicators?',\n",
       " 'final_answer': None,\n",
       " '__interrupt__': [Interrupt(value={'message': 'There are missing inputs required to go through: . Please provide them.'}, id='d6c06e5681431bf8306b20d7a440813b')]}"
      ]
     },
     "execution_count": 13,
     "metadata": {},
     "output_type": "execute_result"
    }
   ],
   "source": [
    "result"
   ]
  },
  {
   "cell_type": "code",
   "execution_count": null,
   "id": "f91e0119",
   "metadata": {},
   "outputs": [],
   "source": []
  }
 ],
 "metadata": {
  "kernelspec": {
   "display_name": ".venv",
   "language": "python",
   "name": "python3"
  },
  "language_info": {
   "codemirror_mode": {
    "name": "ipython",
    "version": 3
   },
   "file_extension": ".py",
   "mimetype": "text/x-python",
   "name": "python",
   "nbconvert_exporter": "python",
   "pygments_lexer": "ipython3",
   "version": "3.11.8"
  }
 },
 "nbformat": 4,
 "nbformat_minor": 5
}

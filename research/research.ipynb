{
 "cells": [
  {
   "cell_type": "code",
   "execution_count": 1,
   "id": "af4048a1",
   "metadata": {},
   "outputs": [],
   "source": [
    "import os\n",
    "os.chdir(\"../\")"
   ]
  },
  {
   "cell_type": "markdown",
   "id": "29f67f77",
   "metadata": {},
   "source": [
    "### Configuration for models"
   ]
  },
  {
   "cell_type": "code",
   "execution_count": 2,
   "id": "1d1e9dec",
   "metadata": {},
   "outputs": [],
   "source": [
    "from src.PiuFi.Configuration.config import ModelConfig"
   ]
  },
  {
   "cell_type": "code",
   "execution_count": 3,
   "id": "9aeb6380",
   "metadata": {},
   "outputs": [],
   "source": [
    "config = ModelConfig()"
   ]
  },
  {
   "cell_type": "code",
   "execution_count": 5,
   "id": "25007ebc",
   "metadata": {},
   "outputs": [
    {
     "data": {
      "text/plain": [
       "'gpt-5-mini'"
      ]
     },
     "execution_count": 5,
     "metadata": {},
     "output_type": "execute_result"
    }
   ],
   "source": [
    "config.get_agent_model(agent_name = \"question_rewriter\").get(\"name\")"
   ]
  },
  {
   "cell_type": "code",
   "execution_count": null,
   "id": "4d8e8421",
   "metadata": {},
   "outputs": [],
   "source": []
  }
 ],
 "metadata": {
  "kernelspec": {
   "display_name": ".venv",
   "language": "python",
   "name": "python3"
  },
  "language_info": {
   "codemirror_mode": {
    "name": "ipython",
    "version": 3
   },
   "file_extension": ".py",
   "mimetype": "text/x-python",
   "name": "python",
   "nbconvert_exporter": "python",
   "pygments_lexer": "ipython3",
   "version": "3.11.8"
  }
 },
 "nbformat": 4,
 "nbformat_minor": 5
}

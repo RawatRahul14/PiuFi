{
 "cells": [
  {
   "cell_type": "code",
   "execution_count": 1,
   "id": "af4048a1",
   "metadata": {},
   "outputs": [],
   "source": [
    "import os\n",
    "os.chdir(\"../\")"
   ]
  },
  {
   "cell_type": "markdown",
   "id": "29f67f77",
   "metadata": {},
   "source": [
    "### Configuration for models"
   ]
  },
  {
   "cell_type": "code",
   "execution_count": 2,
   "id": "1d1e9dec",
   "metadata": {},
   "outputs": [],
   "source": [
    "from src.PiuFi.Configuration.config import ModelConfig"
   ]
  },
  {
   "cell_type": "code",
   "execution_count": 3,
   "id": "9aeb6380",
   "metadata": {},
   "outputs": [],
   "source": [
    "config = ModelConfig()"
   ]
  },
  {
   "cell_type": "code",
   "execution_count": 5,
   "id": "25007ebc",
   "metadata": {},
   "outputs": [
    {
     "data": {
      "text/plain": [
       "'gpt-5-mini'"
      ]
     },
     "execution_count": 5,
     "metadata": {},
     "output_type": "execute_result"
    }
   ],
   "source": [
    "config.get_agent_model(agent_name = \"question_rewriter\").get(\"name\")"
   ]
  },
  {
   "cell_type": "markdown",
   "id": "ceeee801",
   "metadata": {},
   "source": [
    "### Read YAML function"
   ]
  },
  {
   "cell_type": "code",
   "execution_count": 15,
   "id": "649b088d",
   "metadata": {},
   "outputs": [],
   "source": [
    "import json\n",
    "from src.PiuFi.utils.common import render_prompt"
   ]
  },
  {
   "cell_type": "code",
   "execution_count": 3,
   "id": "94c82be8",
   "metadata": {},
   "outputs": [],
   "source": [
    "conversation = \"No Chat History\""
   ]
  },
  {
   "cell_type": "code",
   "execution_count": 6,
   "id": "e9c57a55",
   "metadata": {},
   "outputs": [],
   "source": [
    "chats = render_prompt(prompt_name = \"question_rewriter\",\n",
    "              current_question = \"What is EPS?\",\n",
    "              conversation = conversation)"
   ]
  },
  {
   "cell_type": "code",
   "execution_count": 19,
   "id": "96517ae5",
   "metadata": {},
   "outputs": [
    {
     "data": {
      "text/plain": [
       "{'system': 'ROLE\\n- You are a Financial question rewriter and extractor.\\n\\nINPUTS\\n- \"current_question\": User\\'s latest query.\\n- \"conversation\": Chat history of upto 3 days.\\n\\nTASKS\\n- Rewrite the latest meaningful financial question into a clear, self-contained form.\\n- Produce three variants:\\n  - \"rag_rephrased_question\": phrased for document/filing/news retrieval.\\n  - \"financial_rephrased_question\": general finance Q&A; NO tickers, NO days, NO calculations.\\n  - \"technical_rephrased_question\": for indicator analysis; include ticker/timeframe if available.\\n- Extract:\\n  - \"tickers\": List of the tickers mentioned by the user in the query. If none, [].\\n  - \"n_days\": Number of days mentioned by the user in the query. If none, None.\\n  - \"direction\": Time reference user is mentioning about. \\'past\\', \\'future\\' or \\'present\\' if mentioned, else None.\\n\\nRULES\\n- Scan `conversation` from newest to oldest to resolve vague references in query.\\n- Prefer `current_question` over older context unless the latest is vague.\\n- Do not invent companies, metrics, or dates. If uncertain, leave fields None.\\n- Normalize time phrases when possible:\\n  - \"Next 5 days\" → n_days = 5, direction = \"future\"\\n  - \"This week\" → n_days = 7, direction = \"future\"',\n",
       " 'user': 'USER QUERY: What is EPS?\\nCHAT HISTORY: No Chat History',\n",
       " 'output_schema': '{\\n  \"rephrased_question\": \"string\",\\n  \"rag_rephrased_question\": \"string\",\\n  \"financial_rephrased_question\": \"string\",\\n  \"technical_rephrased_question\": \"string\",\\n  \"tickers\": [\"string\"],\\n  \"n_days\": \"integer or null\",\\n  \"direction\": \"onr of [\\'past\\', \\'future\\', \\'null\\']\"\\n}\\n',\n",
       " 'few_shots': [{'input': {'current_question': 'Next 5 days for TSLA',\n",
       "    'conversation': '\"Chat-3\": {\"query\": \"Next 5 days for TSLA\", \"context\": \"\", \"keywords\": [\"TSLA\", \"next 5 days\"]},\\n\"Chat-2\": {\"query\": \"What is Tesla\\'s MACD?\", \"context\": \"\", \"keywords\": [\"Tesla\", \"MACD\"]},\\n\"Chat-1\": {\"query\": \"Any news on Tesla?\", \"context\": \"\", \"keywords\": [\"Tesla\", \"news\"]}\\n'},\n",
       "   'output': '{\\n  \"rephrased_question\": \"Assess Tesla (TSLA) for the next 5 trading days, focusing on likely price direction.\",\\n  \"rag_rephrased_question\": \"Check recent filings or trusted reports for factors that may impact Tesla over the next trading week.\",\\n  \"financial_rephrased_question\": \"What short-term factors can influence a company\\'s performance over an upcoming trading week?\",\\n  \"technical_rephrased_question\": \"Compute and interpret key technical indicators (e.g., RSI, MACD, moving averages) for Tesla (TSLA) over the next 5 trading days and summarize the directional signals.\",\\n  \"tickers\": [\"TSLA\"],\\n  \"n_days\": 5,\\n  \"direction\": \"future\"\\n}'}]}"
      ]
     },
     "execution_count": 19,
     "metadata": {},
     "output_type": "execute_result"
    }
   ],
   "source": [
    "chats"
   ]
  },
  {
   "cell_type": "markdown",
   "id": "c8c4211d",
   "metadata": {},
   "source": [
    "### Graph"
   ]
  },
  {
   "cell_type": "code",
   "execution_count": 2,
   "id": "e009cff5",
   "metadata": {},
   "outputs": [],
   "source": [
    "from main import graph"
   ]
  },
  {
   "cell_type": "code",
   "execution_count": 3,
   "id": "693e0b50",
   "metadata": {},
   "outputs": [],
   "source": [
    "graph = graph()"
   ]
  },
  {
   "cell_type": "code",
   "execution_count": 4,
   "id": "3fd5f1db",
   "metadata": {},
   "outputs": [],
   "source": [
    "from IPython.display import display, Image\n",
    "from langchain_core.runnables.graph import MermaidDrawMethod"
   ]
  },
  {
   "cell_type": "code",
   "execution_count": 5,
   "id": "0bdd4f9d",
   "metadata": {},
   "outputs": [
    {
     "data": {
      "image/png": "[encoded data removed]",
      "text/plain": [
       "<IPython.core.display.Image object>"
      ]
     },
     "metadata": {},
     "output_type": "display_data"
    }
   ],
   "source": [
    "display(\n",
    "    Image(\n",
    "        graph.get_graph().draw_mermaid_png(\n",
    "            draw_method = MermaidDrawMethod.API\n",
    "        )\n",
    "    )\n",
    ")"
   ]
  },
  {
   "cell_type": "code",
   "execution_count": 6,
   "id": "3201e8d7",
   "metadata": {},
   "outputs": [],
   "source": [
    "user_input = \"analyze TCS stock using macd and rsi\""
   ]
  },
  {
   "cell_type": "code",
   "execution_count": 7,
   "id": "d13c086e",
   "metadata": {},
   "outputs": [],
   "source": [
    "input_data = {\n",
    "            \"question\": user_input\n",
    "        }"
   ]
  },
  {
   "cell_type": "code",
   "execution_count": 8,
   "id": "7424b056",
   "metadata": {},
   "outputs": [],
   "source": [
    "result = await graph.ainvoke(\n",
    "            input = input_data,\n",
    "            config = {\n",
    "                \"configurable\": {\n",
    "                    \"thread_id\": 1\n",
    "                }\n",
    "            }\n",
    "        )"
   ]
  },
  {
   "cell_type": "code",
   "execution_count": 9,
   "id": "9d3a0435",
   "metadata": {},
   "outputs": [
    {
     "data": {
      "text/plain": [
       "{'question': 'analyze TCS stock using macd and rsi',\n",
       " 'n_days': None,\n",
       " 'direction': None,\n",
       " 'tickers': ['TCS'],\n",
       " 'models_list': [],\n",
       " 'messages': {},\n",
       " 'rephrased_question': 'Analyze TCS stock using MACD and RSI and provide interpretation and actionable signals.',\n",
       " 'rag_rephrased_question': 'Find reports and market commentary on TCS stock MACD and RSI signals.',\n",
       " 'financial_rephrased_question': 'How do MACD and RSI together indicate trend direction and entry/exit signals?',\n",
       " 'technical_rephrased_question': 'Analyze MACD and RSI for TCS and state current crossovers, divergences, and buy/sell signals.',\n",
       " 'final_answer': None}"
      ]
     },
     "execution_count": 9,
     "metadata": {},
     "output_type": "execute_result"
    }
   ],
   "source": [
    "result"
   ]
  },
  {
   "cell_type": "code",
   "execution_count": null,
   "id": "0507bb87",
   "metadata": {},
   "outputs": [],
   "source": []
  }
 ],
 "metadata": {
  "kernelspec": {
   "display_name": ".venv",
   "language": "python",
   "name": "python3"
  },
  "language_info": {
   "codemirror_mode": {
    "name": "ipython",
    "version": 3
   },
   "file_extension": ".py",
   "mimetype": "text/x-python",
   "name": "python",
   "nbconvert_exporter": "python",
   "pygments_lexer": "ipython3",
   "version": "3.11.8"
  }
 },
 "nbformat": 4,
 "nbformat_minor": 5
}
